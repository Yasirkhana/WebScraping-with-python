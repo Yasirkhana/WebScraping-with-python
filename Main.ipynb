{
 "cells": [
  {
   "cell_type": "markdown",
   "id": "681e47bb",
   "metadata": {},
   "source": [
    "# <center> WEBSCRAPING WITH PYTHON <center>"
   ]
  },
  {
   "cell_type": "markdown",
   "id": "de429a28",
   "metadata": {},
   "source": [
    "So for this project I'm going to use (\"https://pythonhow.com/example.html\") this example webpage. It is a basic html page and its easy for begainers "
   ]
  },
  {
   "cell_type": "code",
   "execution_count": null,
   "id": "9314a06f",
   "metadata": {},
   "outputs": [],
   "source": []
  }
 ],
 "metadata": {
  "kernelspec": {
   "display_name": "Python 3",
   "language": "python",
   "name": "python3"
  },
  "language_info": {
   "codemirror_mode": {
    "name": "ipython",
    "version": 3
   },
   "file_extension": ".py",
   "mimetype": "text/x-python",
   "name": "python",
   "nbconvert_exporter": "python",
   "pygments_lexer": "ipython3",
   "version": "3.8.8"
  }
 },
 "nbformat": 4,
 "nbformat_minor": 5
}
