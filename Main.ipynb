{
 "cells": [
  {
   "cell_type": "markdown",
   "id": "85b3a298",
   "metadata": {},
   "source": [
    "# <center> SCRAPING WEBSITE DATA WITH PYTHON <center>"
   ]
  },
  {
   "cell_type": "markdown",
   "id": "3a53e9db",
   "metadata": {},
   "source": [
    "### <center> For this project i'll be using a Real Estate website to scrap data. <center>"
   ]
  },
  {
   "cell_type": "code",
   "execution_count": 1,
   "id": "393fc75e",
   "metadata": {},
   "outputs": [],
   "source": [
    "import requests\n",
    "from bs4 import BeautifulSoup"
   ]
  },
  {
   "cell_type": "markdown",
   "id": "0b4c7096",
   "metadata": {},
   "source": [
    "# TO SCRAP ONE PAGE DATA ONLY"
   ]
  },
  {
   "cell_type": "code",
   "execution_count": 34,
   "id": "29a7b534",
   "metadata": {
    "scrolled": true
   },
   "outputs": [],
   "source": [
    "l=[]\n",
    "base_url = \"https://www.century21.com/real-estate/austin-tx/LCTXAUSTIN/?p=\"\n",
    "for page in range(1,30):        # to ilterate through all the pages\n",
    "    r = requests.get(base_url+str(page))\n",
    "    c = r.content\n",
    "    soup = BeautifulSoup(c,\"html.parser\")\n",
    "    all = soup.find_all(\"div\",{\"class\":\"property-card\"})\n",
    "    for item in all:\n",
    "        d={}\n",
    "        d[\"Price\"] = item.find(\"a\",{\"class\",\"listing-price\"}).text.replace(\"\\n\",\"\").replace(\" \",\"\") #price\n",
    "        d[\"Address\"] = item.find(\"div\",{\"class\",\"property-address\"}).text.replace(\"\\n\",\"\").replace(\" \",\"\") #address\n",
    "        d[\"City\"] = item.find(\"div\",{\"class\",\"property-city\"}).text.replace(\"\\n\",\"\").replace(\" \",\"\") # City\n",
    "        try:\n",
    "            d[\"bed\"] = item.find(\"div\",{\"class\",\"property-baths\"}).find(\"strong\").text.replace(\"\\n\",\"\").replace(\" \",\"\") # bed\n",
    "        except:\n",
    "            d[\"bed\"] = None\n",
    "        try:\n",
    "            d[\"bath\"] = item.find(\"div\",{\"class\",\"property-baths\"}).find(\"strong\").text.replace(\"\\n\",\"\").replace(\" \",\"\") # bath\n",
    "        except:\n",
    "            d[\"bath\"] = None\n",
    "        try:\n",
    "            d[\"SQFT\"] = item.find(\"div\",{\"class\",\"property-sqft\"}).text.replace(\"\\n\",\"\").replace(\" \",\"\") # square.ft\n",
    "        except:\n",
    "            d[\"SQFT\"] = None\n",
    "\n",
    "        l.append(d)\n",
    "    "
   ]
  },
  {
   "cell_type": "markdown",
   "id": "d89a4650",
   "metadata": {},
   "source": [
    "#### Now, arrange this data in pandas dataframe to export as a CV file"
   ]
  },
  {
   "cell_type": "code",
   "execution_count": 35,
   "id": "7b32234c",
   "metadata": {},
   "outputs": [
    {
     "data": {
      "text/plain": [
       "353"
      ]
     },
     "execution_count": 35,
     "metadata": {},
     "output_type": "execute_result"
    }
   ],
   "source": [
    "len(l)"
   ]
  },
  {
   "cell_type": "markdown",
   "id": "b6d05330",
   "metadata": {},
   "source": [
    "#### So, We've scraped 352 Rows of data from the website"
   ]
  },
  {
   "cell_type": "markdown",
   "id": "1804cfb0",
   "metadata": {},
   "source": [
    "#### Now to export this data in the form of CSV file we use Pandas dataframe"
   ]
  },
  {
   "cell_type": "code",
   "execution_count": 52,
   "id": "fb335b06",
   "metadata": {},
   "outputs": [],
   "source": [
    "import pandas as pd"
   ]
  },
  {
   "cell_type": "code",
   "execution_count": 53,
   "id": "a9cb788f",
   "metadata": {},
   "outputs": [],
   "source": [
    "df = pd.DataFrame(l)"
   ]
  },
  {
   "cell_type": "code",
   "execution_count": 54,
   "id": "b66e8fc7",
   "metadata": {
    "scrolled": true
   },
   "outputs": [
    {
     "data": {
      "text/html": [
       "<div>\n",
       "<style scoped>\n",
       "    .dataframe tbody tr th:only-of-type {\n",
       "        vertical-align: middle;\n",
       "    }\n",
       "\n",
       "    .dataframe tbody tr th {\n",
       "        vertical-align: top;\n",
       "    }\n",
       "\n",
       "    .dataframe thead th {\n",
       "        text-align: right;\n",
       "    }\n",
       "</style>\n",
       "<table border=\"1\" class=\"dataframe\">\n",
       "  <thead>\n",
       "    <tr style=\"text-align: right;\">\n",
       "      <th></th>\n",
       "      <th>Price</th>\n",
       "      <th>Address</th>\n",
       "      <th>City</th>\n",
       "      <th>bed</th>\n",
       "      <th>bath</th>\n",
       "      <th>SQFT</th>\n",
       "    </tr>\n",
       "  </thead>\n",
       "  <tbody>\n",
       "    <tr>\n",
       "      <th>0</th>\n",
       "      <td>$235,000</td>\n",
       "      <td>512Eberhart#206</td>\n",
       "      <td>AustinTX78745</td>\n",
       "      <td>1</td>\n",
       "      <td>1</td>\n",
       "      <td>832sq.ft</td>\n",
       "    </tr>\n",
       "    <tr>\n",
       "      <th>1</th>\n",
       "      <td>$479,000</td>\n",
       "      <td>10900MickelsonDr</td>\n",
       "      <td>AustinTX78747</td>\n",
       "      <td>3</td>\n",
       "      <td>3</td>\n",
       "      <td>None</td>\n",
       "    </tr>\n",
       "    <tr>\n",
       "      <th>2</th>\n",
       "      <td>$325,000</td>\n",
       "      <td>11929GaelicDrive</td>\n",
       "      <td>AustinTX78754</td>\n",
       "      <td>2</td>\n",
       "      <td>2</td>\n",
       "      <td>None</td>\n",
       "    </tr>\n",
       "    <tr>\n",
       "      <th>3</th>\n",
       "      <td>$620,000</td>\n",
       "      <td>12708TierraGrandeTrail</td>\n",
       "      <td>AustinTX78732</td>\n",
       "      <td>2</td>\n",
       "      <td>2</td>\n",
       "      <td>2,002sq.ft</td>\n",
       "    </tr>\n",
       "    <tr>\n",
       "      <th>4</th>\n",
       "      <td>$650,000</td>\n",
       "      <td>1819PiedmontAvenue</td>\n",
       "      <td>AustinTX78757</td>\n",
       "      <td>2</td>\n",
       "      <td>2</td>\n",
       "      <td>None</td>\n",
       "    </tr>\n",
       "    <tr>\n",
       "      <th>...</th>\n",
       "      <td>...</td>\n",
       "      <td>...</td>\n",
       "      <td>...</td>\n",
       "      <td>...</td>\n",
       "      <td>...</td>\n",
       "      <td>...</td>\n",
       "    </tr>\n",
       "    <tr>\n",
       "      <th>348</th>\n",
       "      <td>$105,000</td>\n",
       "      <td>14502HuntersPASS</td>\n",
       "      <td>AustinTX78734</td>\n",
       "      <td>None</td>\n",
       "      <td>None</td>\n",
       "      <td>None</td>\n",
       "    </tr>\n",
       "    <tr>\n",
       "      <th>349</th>\n",
       "      <td>$95,000</td>\n",
       "      <td>4102LowerDR</td>\n",
       "      <td>AustinTX78725</td>\n",
       "      <td>None</td>\n",
       "      <td>None</td>\n",
       "      <td>None</td>\n",
       "    </tr>\n",
       "    <tr>\n",
       "      <th>350</th>\n",
       "      <td>$95,000</td>\n",
       "      <td>3802LowerDR</td>\n",
       "      <td>AustinTX78725</td>\n",
       "      <td>None</td>\n",
       "      <td>None</td>\n",
       "      <td>None</td>\n",
       "    </tr>\n",
       "    <tr>\n",
       "      <th>351</th>\n",
       "      <td>$95,000</td>\n",
       "      <td>2502DouglasST</td>\n",
       "      <td>AustinTX78741</td>\n",
       "      <td>None</td>\n",
       "      <td>None</td>\n",
       "      <td>None</td>\n",
       "    </tr>\n",
       "    <tr>\n",
       "      <th>352</th>\n",
       "      <td>$80,000</td>\n",
       "      <td>4808BrookCreekCV</td>\n",
       "      <td>AustinTX78744</td>\n",
       "      <td>None</td>\n",
       "      <td>None</td>\n",
       "      <td>None</td>\n",
       "    </tr>\n",
       "  </tbody>\n",
       "</table>\n",
       "<p>353 rows × 6 columns</p>\n",
       "</div>"
      ],
      "text/plain": [
       "        Price                 Address           City   bed  bath        SQFT\n",
       "0    $235,000         512Eberhart#206  AustinTX78745     1     1    832sq.ft\n",
       "1    $479,000        10900MickelsonDr  AustinTX78747     3     3        None\n",
       "2    $325,000        11929GaelicDrive  AustinTX78754     2     2        None\n",
       "3    $620,000  12708TierraGrandeTrail  AustinTX78732     2     2  2,002sq.ft\n",
       "4    $650,000      1819PiedmontAvenue  AustinTX78757     2     2        None\n",
       "..        ...                     ...            ...   ...   ...         ...\n",
       "348  $105,000        14502HuntersPASS  AustinTX78734  None  None        None\n",
       "349   $95,000             4102LowerDR  AustinTX78725  None  None        None\n",
       "350   $95,000             3802LowerDR  AustinTX78725  None  None        None\n",
       "351   $95,000           2502DouglasST  AustinTX78741  None  None        None\n",
       "352   $80,000        4808BrookCreekCV  AustinTX78744  None  None        None\n",
       "\n",
       "[353 rows x 6 columns]"
      ]
     },
     "execution_count": 54,
     "metadata": {},
     "output_type": "execute_result"
    }
   ],
   "source": [
    "df"
   ]
  },
  {
   "cell_type": "code",
   "execution_count": 56,
   "id": "607d072b",
   "metadata": {},
   "outputs": [],
   "source": [
    "df.to_csv(\"Output_data.csv\")"
   ]
  },
  {
   "cell_type": "markdown",
   "id": "09f9bc9f",
   "metadata": {},
   "source": [
    "## Great :)"
   ]
  },
  {
   "cell_type": "markdown",
   "id": "1e6b325e",
   "metadata": {},
   "source": [
    "# PROJECT BY @YASIRKHANA"
   ]
  },
  {
   "cell_type": "code",
   "execution_count": null,
   "id": "ffc69331",
   "metadata": {},
   "outputs": [],
   "source": []
  }
 ],
 "metadata": {
  "kernelspec": {
   "display_name": "Python 3",
   "language": "python",
   "name": "python3"
  },
  "language_info": {
   "codemirror_mode": {
    "name": "ipython",
    "version": 3
   },
   "file_extension": ".py",
   "mimetype": "text/x-python",
   "name": "python",
   "nbconvert_exporter": "python",
   "pygments_lexer": "ipython3",
   "version": "3.8.8"
  }
 },
 "nbformat": 4,
 "nbformat_minor": 5
}
